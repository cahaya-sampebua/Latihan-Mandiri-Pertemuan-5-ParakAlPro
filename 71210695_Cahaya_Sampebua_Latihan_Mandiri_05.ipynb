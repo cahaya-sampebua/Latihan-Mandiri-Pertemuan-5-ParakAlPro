{
  "nbformat": 4,
  "nbformat_minor": 0,
  "metadata": {
    "colab": {
      "provenance": []
    },
    "kernelspec": {
      "name": "python3",
      "display_name": "Python 3"
    },
    "language_info": {
      "name": "python"
    }
  },
  "cells": [
    {
      "cell_type": "code",
      "execution_count": null,
      "metadata": {
        "id": "PKZ6h-m9XKbN"
      },
      "outputs": [],
      "source": [
        "#Soal 5.1\n",
        "\n",
        "def perkalian(bil1,bil2):\n",
        "    print(bil1 ,\"x\", bil2, \"=\", end=' ')\n",
        "    for i in range(bil1):\n",
        "        if i == bil1 - 1:\n",
        "            print(bilang2,\"=\", bil1 * bil2)\n",
        "        else:\n",
        "            print(bilang2,\"+\", end=' ')\n",
        "\n",
        "bilang1 = int(input(\"Masukan bilangan pertama yang ingin dikali = \"))\n",
        "bilang2 = int(input(\"Masukan bilangan kedua yang ingin dikali = \"))\n",
        "\n",
        "perkalian(bilang1,bilang2)"
      ]
    },
    {
      "cell_type": "code",
      "source": [
        "#Soal 5.2\n",
        "\n",
        "def ganjil(ats,bwh):\n",
        "    if bwh > ats:\n",
        "        while bwh != ats:\n",
        "            if bwh % 2 == 1:\n",
        "                if bwh == ats + 2 :\n",
        "                    print(bwh-2, end='.')\n",
        "                elif bwh == ats + 3:\n",
        "                    print(str(bwh)+\",\"+str(bwh-2), end='.')\n",
        "                    break\n",
        "                else:\n",
        "                    print(bwh, end=',')\n",
        "            bwh = bwh - 1\n",
        "\n",
        "    else:\n",
        "        while bwh != ats:\n",
        "            if bwh % 2 == 1:\n",
        "                if bwh == ats - 2 :\n",
        "                    print(bwh+2, end='.')\n",
        "                elif bwh == ats - 3 :\n",
        "                    print(str(bwh)+\",\"+str(bwh+2), end='.')\n",
        "                    break\n",
        "                else:\n",
        "                    print(bwh, end=',')\n",
        "            bwh = bwh + 1\n",
        "\n",
        "\n",
        "bawah = int(input(\"Masukan nilai bawah = \"))\n",
        "atas = int(input(\"Masukan nilai atas = \"))\n",
        "ganjil(atas,bawah)"
      ],
      "metadata": {
        "id": "IMKiJ_09X971"
      },
      "execution_count": null,
      "outputs": []
    },
    {
      "cell_type": "code",
      "source": [
        "#Soal 5.3\n",
        "\n",
        "print(\"Program penghitung IPS Mahasiswa\")\n",
        "try:\n",
        "    sks = int(input(\"Berapa jumlah mata kuliah? \"))\n",
        "    i = 0\n",
        "    jumlah = 0\n",
        "    try:\n",
        "        while i < sks:\n",
        "            mk = input(\"Nilai MK %d: \" % (i+1))\n",
        "            if mk == \"A\":\n",
        "                nilai = 4\n",
        "            elif mk == \"B\":\n",
        "                nilai = 3\n",
        "            elif mk == \"C\":\n",
        "                nilai = 2\n",
        "            elif mk == \"D\":\n",
        "                nilai = 1\n",
        "            else:\n",
        "                print(\"Nilai yang anda masukan salah atau tidak ada\", end=\"\")\n",
        "                break\n",
        "            i = i + 1\n",
        "            jumlah += nilai\n",
        "    except:\n",
        "        print(\"Nilai yang anda masukan salah\", end=\"\")\n",
        "    rata_rata = jumlah / sks\n",
        "    print(\"\\nNilai IPS anda semester ini %0.2f\" % rata_rata)\n",
        "except:\n",
        "    print(\"Anda salah memasukan input\")"
      ],
      "metadata": {
        "id": "lNXZlMEjYrIf"
      },
      "execution_count": null,
      "outputs": []
    }
  ]
}